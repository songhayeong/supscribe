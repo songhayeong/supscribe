{
 "cells": [
  {
   "cell_type": "code",
   "execution_count": 4,
   "metadata": {
    "collapsed": true
   },
   "outputs": [],
   "source": [
    "import pandas as pd\n",
    "import numpy as np\n",
    "from sklearn.preprocessing import OrdinalEncoder\n"
   ]
  },
  {
   "cell_type": "code",
   "execution_count": 10,
   "outputs": [
    {
     "name": "stdout",
     "output_type": "stream",
     "text": [
      "69\n",
      "시술 시기 코드                  object\n",
      "시술 당시 나이                  object\n",
      "임신 시도 또는 마지막 임신 경과 연수    float64\n",
      "시술 유형                     object\n",
      "특정 시술 유형                  object\n",
      "                          ...   \n",
      "난자 혼합 경과일                float64\n",
      "배아 이식 경과일                float64\n",
      "배아 해동 경과일                float64\n",
      "임신 성공 여부                  object\n",
      "시술 당시 나이 (변환)            float64\n",
      "Length: 69, dtype: object\n"
     ]
    }
   ],
   "source": [
    "df = pd.read_csv('train_split.csv')\n",
    "\n",
    "    # 타겟 이진화\n",
    "if '임신 성공 여부' in df.columns:\n",
    "    df['임신 성공 여부'] = df['임신 성공 여부'].apply(lambda x: 1 if x > 0 else 0)\n",
    "\n",
    "    # 횟수형 문자열 → 정수\n",
    "count_columns = [\n",
    "    \"총 시술 횟수\", \"클리닉 내 총 시술 횟수\", \"IVF 시술 횟수\", \"DI 시술 횟수\",\n",
    "    \"총 임신 횟수\", \"IVF 임신 횟수\", \"DI 임신 횟수\",\n",
    "    \"총 출산 횟수\", \"IVF 출산 횟수\", \"DI 출산 횟수\"\n",
    "]\n",
    "\n",
    "def convert_count(value):\n",
    "    if isinstance(value, str) and \"회 이상\" in value:\n",
    "        return 6\n",
    "    try:\n",
    "        return int(str(value).replace(\"회\", \"\"))\n",
    "    except:\n",
    "        return 0\n",
    "\n",
    "for col in count_columns:\n",
    "    if col in df.columns:\n",
    "        df[col] = df[col].astype(str).apply(convert_count)\n",
    "\n",
    "    # 시술 당시 나이\n",
    "age_mapping = {\n",
    "        \"만18-34세\": 25,\n",
    "        \"만35-37세\": 36,\n",
    "        \"만38-39세\": 38,\n",
    "        \"만40-42세\": 41,\n",
    "        \"만43-44세\": 43,\n",
    "        \"만45-50세\": 44,\n",
    "        \"알 수 없음\": np.nan}\n",
    "\n",
    "if \"시술 당시 나이\" in df.columns:\n",
    "    df[\"시술 당시 나이 (변환)\"] = df[\"시술 당시 나이\"].map(age_mapping)\n",
    "    df[\"시술 당시 나이 (변환)\"] = df[\"시술 당시 나이 (변환)\"].fillna(df[\"시술 당시 나이 (변환)\"].mean())\n",
    "\n",
    "    # 시술 코드 multi-hot 처리\n",
    "# procedure_col = df[\"특정 시술 유형\"].fillna('Unknown')\n",
    "# procedure_tokens = [\n",
    "#         'IVF', 'ICSI', 'IUI', 'ICI', 'GIFT', 'FER', 'Generic DI',\n",
    "#         'IVI', 'BLASTOCYST', 'AH', 'Unknown'\n",
    "# ]\n",
    "#\n",
    "# for token in procedure_tokens:\n",
    "#     df[f'is_{token.lower().replace(\" \", \"_\")}'] = procedure_col.apply(\n",
    "#         lambda x: int(token in str(x).replace('/', ':').split(':'))\n",
    "#         )\n",
    "#\n",
    "# df = df.drop(columns=[\"특정 시술 유형\"])\n",
    "\n",
    "# 문자열 피처 → ordinal encoding\n",
    "# string_cols = df.select_dtypes(include='object').columns.difference(['특정 시술 유형'])\n",
    "# for col in string_cols:\n",
    "#     df[col] = df[col].fillna(\"NaN\").astype(str)\n",
    "# if len(string_cols) > 0:\n",
    "#     df[string_cols] = OrdinalEncoder().fit_transform(df[string_cols])\n",
    "\n",
    "    # 수치형 피처 → 중앙값 대체\n",
    "numeric_cols = df.select_dtypes(include='number').columns.difference(['임신 성공 여부'])\n",
    "for col in numeric_cols:\n",
    "        df[col] = df[col].fillna(df[col].median())\n",
    "\n",
    "    # 나이 결측 보간 (평균)\n",
    "if \"시술 당시 나이 (변환)\" in df.columns:\n",
    "    df[\"시술 당시 나이 (변환)\"] = df[\"시술 당시 나이 (변환)\"].fillna(df[\"시술 당시 나이 (변환)\"].mean())\n",
    "\n",
    "for col in df.select_dtypes(include='number').columns:\n",
    "    unique_vals = df[col].dropna().unique()\n",
    "    if set(unique_vals).issubset({0, 1}):  # 이진 변수일 경우\n",
    "        df[col] = df[col].astype(str)\n",
    "\n",
    "print(df.shape[1])\n",
    "print(df.dtypes)"
   ],
   "metadata": {
    "collapsed": false
   }
  },
  {
   "cell_type": "code",
   "execution_count": 11,
   "outputs": [
    {
     "name": "stdout",
     "output_type": "stream",
     "text": [
      "['시술 시기 코드', '시술 당시 나이', '시술 유형', '특정 시술 유형', '배란 자극 여부', '배란 유도 유형', '단일 배아 이식 여부', '착상 전 유전 검사 사용 여부', '착상 전 유전 진단 사용 여부', '남성 주 불임 원인', '남성 부 불임 원인', '여성 주 불임 원인', '여성 부 불임 원인', '부부 주 불임 원인', '부부 부 불임 원인', '불명확 불임 원인', '불임 원인 - 난관 질환', '불임 원인 - 남성 요인', '불임 원인 - 배란 장애', '불임 원인 - 여성 요인', '불임 원인 - 자궁경부 문제', '불임 원인 - 자궁내막증', '불임 원인 - 정자 농도', '불임 원인 - 정자 면역학적 요인', '불임 원인 - 정자 운동성', '불임 원인 - 정자 형태', '배아 생성 주요 이유', '난자 출처', '정자 출처', '난자 기증자 나이', '정자 기증자 나이', '동결 배아 사용 여부', '신선 배아 사용 여부', '기증 배아 사용 여부', '대리모 여부', 'PGD 시술 여부', 'PGS 시술 여부', '난자 채취 경과일', '난자 해동 경과일', '임신 성공 여부'] [7, 7, 2, 24, 2, 4, 2, 1, 2, 2, 2, 2, 2, 2, 2, 2, 2, 2, 2, 1, 2, 2, 2, 2, 2, 2, 13, 3, 4, 5, 7, 2, 2, 2, 2, 1, 1, 1, 2, 2] ['임신 시도 또는 마지막 임신 경과 연수', '총 시술 횟수', '클리닉 내 총 시술 횟수', 'IVF 시술 횟수', 'DI 시술 횟수', '총 임신 횟수', 'IVF 임신 횟수', 'DI 임신 횟수', '총 출산 횟수', 'IVF 출산 횟수', 'DI 출산 횟수', '총 생성 배아 수', '미세주입된 난자 수', '미세주입에서 생성된 배아 수', '이식된 배아 수', '미세주입 배아 이식 수', '저장된 배아 수', '미세주입 후 저장된 배아 수', '해동된 배아 수', '해동 난자 수', '수집된 신선 난자 수', '저장된 신선 난자 수', '혼합된 난자 수', '파트너 정자와 혼합된 난자 수', '기증자 정자와 혼합된 난자 수', '난자 혼합 경과일', '배아 이식 경과일', '배아 해동 경과일', '시술 당시 나이 (변환)'] 29\n"
     ]
    }
   ],
   "source": [
    "cat_cols = df.select_dtypes(include='object').columns.tolist()\n",
    "num_cols = df.select_dtypes(include='number').drop('임신 성공 여부', errors='ignore').columns.tolist()\n",
    "cat_dims = [df[col].nunique() for col in cat_cols]\n",
    "\n",
    "print(cat_cols, cat_dims, num_cols, len(num_cols))"
   ],
   "metadata": {
    "collapsed": false
   }
  },
  {
   "cell_type": "code",
   "execution_count": null,
   "outputs": [],
   "source": [],
   "metadata": {
    "collapsed": false
   }
  }
 ],
 "metadata": {
  "kernelspec": {
   "display_name": "Python 3",
   "language": "python",
   "name": "python3"
  },
  "language_info": {
   "codemirror_mode": {
    "name": "ipython",
    "version": 2
   },
   "file_extension": ".py",
   "mimetype": "text/x-python",
   "name": "python",
   "nbconvert_exporter": "python",
   "pygments_lexer": "ipython2",
   "version": "2.7.6"
  }
 },
 "nbformat": 4,
 "nbformat_minor": 0
}
